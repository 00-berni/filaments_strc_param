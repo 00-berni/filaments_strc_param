{
 "cells": [
  {
   "cell_type": "markdown",
   "metadata": {},
   "source": [
    "# MBM40\n",
    "\n",
    "## Packages"
   ]
  },
  {
   "cell_type": "code",
   "execution_count": 2,
   "metadata": {},
   "outputs": [],
   "source": [
    "from typing import Any\n",
    "import numpy as np\n",
    "import matplotlib.pyplot as plt\n",
    "from matplotlib.colors import LogNorm\n",
    "from numpy import ndarray\n",
    "\n",
    "from astropy.io import fits\n",
    "from astropy.io.fits import HDUList\n",
    "import astropy.units as u\n",
    "\n",
    "from spectral_cube import SpectralCube, Slice\n",
    "\n",
    "from astroquery.esasky import ESASky\n",
    "from astroquery.utils import TableList\n",
    "from astropy.wcs import WCS\n",
    "from reproject import reproject_interp\n"
   ]
  },
  {
   "cell_type": "markdown",
   "metadata": {},
   "source": [
    "## Functions and Stuff"
   ]
  },
  {
   "cell_type": "markdown",
   "metadata": {},
   "source": [
    "### For data"
   ]
  },
  {
   "cell_type": "code",
   "execution_count": 3,
   "metadata": {},
   "outputs": [],
   "source": [
    "import os\n",
    "\n",
    "class PathVar():\n",
    "    \n",
    "    @staticmethod\n",
    "    def this_dir() -> str:\n",
    "        return os.getcwd()\n",
    "\n",
    "    def __init__(self, path: str = '') -> None:\n",
    "        self.PATH = path  if path != '' else PathVar.this_dir()\n",
    "\n",
    "    def split(self) -> list[str]:\n",
    "        if self.PATH[0] == os.sep:\n",
    "            return [os.sep] + self.PATH.split(os.sep)\n",
    "        else:\n",
    "            return self.PATH.split(os.sep)\n",
    "        \n",
    "\n",
    "    def copy(self) -> 'PathVar':\n",
    "        return PathVar(self.PATH)\n",
    "\n",
    "    def __add__(self, path: str) -> 'PathVar':\n",
    "        new_path = os.path.join(self.PATH,path)\n",
    "        return PathVar(path=new_path)\n",
    "     \n",
    "    def __sub__(self, up: int) -> 'PathVar':\n",
    "        path_list = self.split()\n",
    "        new_path = os.path.join(*path_list[:-up])\n",
    "        return PathVar(path=new_path)\n",
    "    \n",
    "    def __str__(self) -> str:\n",
    "        return self.PATH \n",
    "     \n",
    "\n",
    "class FileVar(PathVar):\n",
    "\n",
    "    def __init__(self, filename: str | list[str], dirpath: str | PathVar = '') -> None:\n",
    "        self.DIR  = dirpath if isinstance(dirpath, PathVar) else PathVar(path = dirpath)\n",
    "        self.FILE = filename\n",
    "\n",
    "    def path(self) -> str | list[str]:\n",
    "        filename = self.FILE \n",
    "        dirname = self.DIR.copy()\n",
    "        if isinstance(filename,str): \n",
    "            return (dirname + filename).PATH\n",
    "        else:\n",
    "            return [(dirname + name).PATH for name in filename]\n",
    "\n",
    "    def __getitem__(self,item: int) -> str:\n",
    "        path = self.path()\n",
    "        if isinstance(path,str): return TypeError('Variable is not subscriptable')\n",
    "        else: return path[item]\n",
    "    \n",
    "    def __setitem__(self,key:int,item:str) -> None:\n",
    "        if isinstance(self.FILE,str): \n",
    "            return TypeError('Variable is not subscriptable')\n",
    "        else: \n",
    "            self.FILE[key] = item\n",
    "\n",
    "\n",
    "    def __str__(self) -> str:\n",
    "        return str(self.path())\n",
    "\n",
    "\n",
    "PROJECT_DIR = PathVar()"
   ]
  },
  {
   "cell_type": "markdown",
   "metadata": {},
   "source": [
    "### For fits files"
   ]
  },
  {
   "cell_type": "code",
   "execution_count": 4,
   "metadata": {},
   "outputs": [],
   "source": [
    "def hotpx_remove(data: ndarray) -> ndarray:\n",
    "    \"\"\"To remove hot pixels from the image\n",
    "\n",
    "    Parameters\n",
    "    ----------\n",
    "    data : ndarray\n",
    "        spectrum data\n",
    "\n",
    "    Returns\n",
    "    -------\n",
    "    data : ndarrayfrom astropy\n",
    "\n",
    "    Notes\n",
    "    -----\n",
    "    The function replacing `NaN` values from the image, if there are.\n",
    "    I did not implement this function, I took it from [*astropy documentation*](https://docs.astropy.org/en/stable/convolution/index.html)\n",
    "\n",
    "    \"\"\"\n",
    "    from astropy.convolution import Gaussian2DKernel, interpolate_replace_nans\n",
    "    # check the presence of `NaNs`\n",
    "    if True in np.isnan(data):\n",
    "        # build a gaussian kernel for the interpolation\n",
    "        kernel = Gaussian2DKernel(x_stddev=1)\n",
    "        # remove the `NaNs`\n",
    "        data = interpolate_replace_nans(data, kernel)\n",
    "    return data\n",
    "\n",
    "\n",
    "\n",
    "def showfits(data: np.ndarray, v: int = -1, title: str = '', n: int = None, norm: str ='linear', dim: list[int] = [10,7], labels: tuple[str,str] = ('',''), ticks: tuple[ndarray[float] | None, ndarray[float] | None] = (None,None), tickslabel: tuple[ ndarray[str | float] | None,  ndarray[str | float] | None] = (None, None),**kwimg) -> None:\n",
    "    \"\"\"Function to display the fits image.\n",
    "    filename\n",
    "    You can display simply the image or set a figure number and a title.\n",
    "\n",
    "    :param data: image matrix of fits file\n",
    "    :type data: np.ndarray\n",
    "    :param v: cmap parameter: 1 for false colors, 0 for grayscale, -1 for reversed grayscale; defaults to -1\n",
    "    :type v: int, optional\n",
    "    :param title: title of the image, defaults to ''\n",
    "    :type title: str, optional\n",
    "    :param n: figure number, defaults to None\n",
    "    :type n: int, optional\n",
    "    :param dim: figure size, defaults to [10,7]\n",
    "    :type dim: list[int], optional\n",
    "    \"\"\"\n",
    "    plt.figure(n,figsize=dim)\n",
    "    plt.title(title)\n",
    "    if v == 1 : color = 'viridis'\n",
    "    elif v == 0 : color = 'gray'\n",
    "    else : color = 'gray_r'\n",
    "    plt.imshow(data, cmap=color, norm=norm, origin='lower',**kwimg)\n",
    "    plt.colorbar()\n",
    "    # plt.xlabel(labels[0])\n",
    "    # plt.ylabel(labels[1])\n",
    "    # if_stat = lambda tck : tck[0] is None and tck[1] is None  \n",
    "    # if if_stat(ticks) and not if_stat(tickslabel):\n",
    "    #     ticks = (np.arange(*tickslabel[0].shape), np.arange(*tickslabel[1].shape))     \n",
    "    # plt.xticks(ticks[0],tickslabel[0])\n",
    "    # plt.yticks(ticks[1],tickslabel[1])\n",
    "\n",
    "\n",
    "def get_data_fit(path: str, lims: list[int | None] = [None,None,None,None], v: int = -1, title: str = '', n: int = None, dim: list[int] = [10,7], hotpx: bool = True, display_plots: bool = True, **imgargs) -> tuple[HDUList, ndarray]:\n",
    "    \"\"\"Function to open fits file and extract data.\n",
    "    \n",
    "    It brings the path and extracts the data, giving a row image.\n",
    "    \n",
    "    You can set a portion of image and also the correction for hotpx.\n",
    "\n",
    "    It calls the functions: \n",
    "      - `hotpx_remove()`\n",
    "      - `showfits()`\n",
    "\n",
    "    :param path: path of the fits file\n",
    "    :type path: str\n",
    "    :param lims: edges of the fits, defaults to [None,None,None,None]\n",
    "    :type lims: list[int | None], optional\n",
    "    :param hotpx: parameter to remove or not the hot pixels, defaults to True\n",
    "    :type hotpx: bool, optional\n",
    "    :param v: cmap parameter: 1 for false colors, 0 for grayscale, -1 for reversed grayscale; defaults to -1\n",
    "    :type v: int, optional\n",
    "    :param title: title of the image, defaults to ''\n",
    "    :type title: str, optional\n",
    "    :param n: figure number, defaults to None\n",
    "    :type n: int, optional\n",
    "    :param dim: figure size, defaults to [10,7]\n",
    "    :type dim: list[int], optional\n",
    "\n",
    "    :return: `hdul` list of the chosen fits file and `data` of the spectrum\n",
    "    :rtype: tuple\n",
    "\n",
    "    .. note:: `lims` parameter controls the x and y extremes in such the form [lower y, higher y, lower x, higher x]\n",
    "    \"\"\"\n",
    "    # open the file\n",
    "    hdul = fits.open(path)\n",
    "    # print fits info\n",
    "    hdul.info()\n",
    "    # print header\n",
    "    hdr = hdul[0].header\n",
    "    print(' - HEADER -')\n",
    "    print(hdr.tostring(sep='\\n'))\n",
    "    print()\n",
    "\n",
    "    # data extraction\n",
    "    # format -> data[Y,X]\n",
    "    data = hotpx_remove(hdul[0].data) if hotpx else hdul[0].data\n",
    "    ly,ry,lx,rx = lims\n",
    "    data = data[ly:ry,lx:rx]\n",
    "    # hot px correction\n",
    "    # Spectrum image\n",
    "    if display_plots == True: showfits(data, v=v,title=title,n=n,dim=dim, **imgargs) \n",
    "    return hdul,data\n"
   ]
  },
  {
   "cell_type": "markdown",
   "metadata": {},
   "source": [
    "### For Cubes"
   ]
  },
  {
   "cell_type": "code",
   "execution_count": 8,
   "metadata": {},
   "outputs": [],
   "source": [
    "u_vel = u.km / u.s\n",
    "u.add_enabled_units(u.def_unit(['K (Tb)'], represents=u.K))\n",
    "\n",
    "\n",
    "def select_channel(cube: SpectralCube, vel_val: float) -> Slice:\n",
    "    ch_pos = np.argmin(np.abs(cube.with_spectral_unit(u_vel).spectral_axis - vel_val*u_vel))\n",
    "    return cube[ch_pos, : , :]\n",
    "\n"
   ]
  },
  {
   "cell_type": "markdown",
   "metadata": {},
   "source": [
    "## Load data\n"
   ]
  },
  {
   "cell_type": "code",
   "execution_count": 5,
   "metadata": {},
   "outputs": [
    {
     "name": "stdout",
     "output_type": "stream",
     "text": [
      "['/home/bernardo/Scrivania/FISICA/ASTROFISICA/&Argomenti/Filaments/filaments_strc_param/MBM40/CO/MBM40_FCRAO_CO_CLEANED_upheader.fits', '/home/bernardo/Scrivania/FISICA/ASTROFISICA/&Argomenti/Filaments/filaments_strc_param/MBM40/CO/MBM40_12CO_xdr.fits']\n",
      "['/home/bernardo/Scrivania/FISICA/ASTROFISICA/&Argomenti/Filaments/filaments_strc_param/MBM40/HI/GALFA_HI_RA+DEC_244.00+18.35_W.fits', '/home/bernardo/Scrivania/FISICA/ASTROFISICA/&Argomenti/Filaments/filaments_strc_param/MBM40/HI/GALFA_HI_RA+DEC_244.00+26.35_W.fits']\n",
      "['/home/bernardo/Scrivania/FISICA/ASTROFISICA/&Argomenti/Filaments/filaments_strc_param/MBM40/IR/IRAS-60_RA+DEC_242.64+21.822.fits', '/home/bernardo/Scrivania/FISICA/ASTROFISICA/&Argomenti/Filaments/filaments_strc_param/MBM40/IR/IRAS-100_RA+DEC_242.64+21.822.fits']\n"
     ]
    }
   ],
   "source": [
    "from pandas import read_csv\n",
    "MBM40_DIR = PROJECT_DIR + 'MBM40'\n",
    "DATA_FILE = FileVar(filename='data.csv',dirpath=MBM40_DIR)\n",
    "co_files, hi_files, ir_files = read_csv(DATA_FILE.path()).to_numpy().transpose()\n",
    "co_paths = FileVar(co_files,MBM40_DIR+'CO')\n",
    "hi_paths = FileVar(hi_files,MBM40_DIR+'HI')\n",
    "ir_paths = FileVar(ir_files,MBM40_DIR+'IR')\n",
    "print(co_paths)\n",
    "print(hi_paths)\n",
    "print(ir_paths)"
   ]
  },
  {
   "cell_type": "markdown",
   "metadata": {},
   "source": [
    "## CO \n",
    "\n",
    "  - 0 : `'MBM40_FCRAO_CO_CLEANED_upheader.fits'`\n",
    "  - 1 : `'MBM40_12CO_xdr.fits'`"
   ]
  },
  {
   "cell_type": "code",
   "execution_count": 21,
   "metadata": {},
   "outputs": [
    {
     "name": "stdout",
     "output_type": "stream",
     "text": [
      "SIMPLE  =                    T / conforms to FITS standard                      \n",
      "BITPIX  =                  -64 / array data type                                \n",
      "NAXIS   =                    3                                                  \n",
      "NAXIS1  =                  130                                                  \n",
      "NAXIS2  =                  160                                                  \n",
      "NAXIS3  =                   56                                                  \n",
      "OBJECT  = 'FCRAO MBM40 CO cleaned map' / Object Name                            \n",
      "BUNIT   = 'K       '           / Units of pixel data values                     \n",
      "OBSERVER= 'FCRAO : Five College Radio Astronomy Observatory'                    \n",
      "WCSAXES =                    3 / Number of coordinate axes                      \n",
      "CRPIX1  =                 66.5 / Pixel coordinate of reference point            \n",
      "CRPIX2  =                 81.5 / Pixel coordinate of reference point            \n",
      "CRPIX3  =                 29.5 / Pixel coordinate of reference point            \n",
      "CDELT1  =             -0.00625 / [deg] Coordinate increment at reference point  \n",
      "CDELT2  =              0.00625 / [deg] Coordinate increment at reference point  \n",
      "CDELT3  =                 0.05 / [m/s] Coordinate increment at reference point  \n",
      "CUNIT1  = 'deg'                / Units of coordinate increment and value        \n",
      "CUNIT2  = 'deg'                / Units of coordinate increment and value        \n",
      "CUNIT3  = 'km s-1  '           / Units of coordinate increment and value        \n",
      "CTYPE1  = 'RA'                 / Coordinate type codeundefined projection       \n",
      "CTYPE2  = 'DEC'                / Coordinate type codeundefined projection       \n",
      "CTYPE3  = 'VOPT'               / Optical velocity (linear)                      \n",
      "CRVAL1  =           242.723925 / [deg] Coordinate value at reference point      \n",
      "CRVAL2  =            21.891035 / [deg] Coordinate value at reference point      \n",
      "CRVAL3  =                2.975 / [m/s] Coordinate value at reference point      \n",
      "LATPOLE =                 90.0 / [deg] Native latitude of celestial pole        \n",
      "MJDREF  =                  0.0 / [d] MJD of fiducial time                       \n",
      "RADESYS = 'FK5'                / Equatorial coordinate system                   \n",
      "EQUINOX =               2000.0 / [yr] Equinox of equatorial coordinates         \n",
      "SPECSYS = 'LSRK'               / Reference frame of spectral coordinates        \n",
      "COMMENT   FITS (Flexible Image Transport System) format is defined in 'Astronomy\n",
      "COMMENT   and Astrophysics', volume 376, page 359; bibcode: 2001A&A...376..359H \n",
      "COMMENT Original Unit=m / s                                                     \n",
      "COMMENT Original Type=VOPT                                                      \n",
      "END                                                                                                                           \n"
     ]
    }
   ],
   "source": [
    "co_cube : SpectralCube = SpectralCube.read(co_paths[0]).with_spectral_unit(u_vel)\n",
    "\n",
    "vel, dec, ra = co_cube.world[:]\n",
    "\n",
    "ra  =  ra[0,0,:].value\n",
    "dec = dec[0,:,0].value\n",
    "vel = vel[:,0,0].value\n",
    "\n",
    "print(co_cube.header.tostring(sep='\\n'))"
   ]
  },
  {
   "cell_type": "code",
   "execution_count": null,
   "metadata": {},
   "outputs": [],
   "source": [
    "\n",
    "mom0 = co_cube.moment0()\n",
    "mom1 = co_cube.moment1()\n",
    "\n",
    "print(mom0.hdu.data.shape)\n",
    "\n",
    "fig = plt.figure(figsize=(18, 12))\n",
    "ax = fig.add_subplot(111, projection=mom0.wcs)\n",
    "\n",
    "# Display the moment map image\n",
    "im = ax.imshow(mom0.hdu.data, cmap='gray', origin='lower', vmin=0, vmax=vel[-1])\n",
    "\n",
    "\n",
    "# Add axes labels\n",
    "ax.set_xlabel(\"RA (hours)\", fontsize=16)\n",
    "ax.set_ylabel(\"DEC (degrees)\", fontsize=16)\n",
    "\n",
    "# Add a colorbar\n",
    "cbar = plt.colorbar(im, pad=.07)\n",
    "cbar.set_label('Velocity (km/s)', size=16)\n",
    "\n",
    "plt.show()"
   ]
  },
  {
   "cell_type": "markdown",
   "metadata": {},
   "source": [
    "## HI 21cm\n",
    "\n",
    "  - 0 : `'GALFA_HI_RA+DEC_244.00+18.35_W.fits'`\n",
    "  - 1 : `'GALFA_HI_RA+DEC_244.00+26.35_W.fits'`\n"
   ]
  },
  {
   "cell_type": "markdown",
   "metadata": {},
   "source": [
    "### Narrow Window"
   ]
  },
  {
   "cell_type": "code",
   "execution_count": 8,
   "metadata": {},
   "outputs": [],
   "source": [
    "vel_range = (vel[0]*u_vel, vel[-1]*u_vel)\n",
    "ra_range  = (243.5*u.deg,242*u.deg)\n",
    "dec_range = (21*u.deg,22.608326*u.deg)\n",
    "\n",
    "channel = 3.4\n"
   ]
  },
  {
   "cell_type": "code",
   "execution_count": null,
   "metadata": {},
   "outputs": [],
   "source": [
    "cube1 : SpectralCube = SpectralCube.read(hi_paths[0]).with_spectral_unit(u_vel).subcube(*ra_range,*dec_range,*vel_range)\n",
    "print(cube1)\n",
    "cube1_slice = select_channel(cube1,channel)\n",
    "\n",
    "del cube1"
   ]
  },
  {
   "cell_type": "code",
   "execution_count": null,
   "metadata": {},
   "outputs": [],
   "source": [
    "\n",
    "dec_range = (22.608326*u.deg,23*u.deg)\n",
    "cube2 : SpectralCube = SpectralCube.read(hi_paths[1]).with_spectral_unit(u_vel).subcube(*ra_range,*dec_range,*vel_range)\n",
    "print(cube2)\n",
    "\n",
    "cube2_slice = select_channel(cube2,channel)\n",
    "\n",
    "del cube2"
   ]
  },
  {
   "cell_type": "code",
   "execution_count": null,
   "metadata": {},
   "outputs": [],
   "source": [
    "co_m0 = co_cube.moment0()\n",
    "fig = plt.figure(figsize=(13,7))\n",
    "ax = fig.add_subplot(111,projection=cube1_slice.wcs)\n",
    "\n",
    "ax.imshow(cube1_slice.hdu.data,cmap='jet',origin='lower')\n",
    "co_transform = ax.get_transform(co_m0.wcs)\n",
    "xlim = ax.get_xlim()\n",
    "ylim = ax.get_ylim()\n",
    "levels = (2,3,4)\n",
    "ax.contour(co_m0.hdu.data,cmap='gray',levels=levels,transform=co_transform)\n",
    "ax.set_xlim(xlim)\n",
    "ax.set_ylim(ylim)\n",
    "plt.show()"
   ]
  },
  {
   "cell_type": "code",
   "execution_count": null,
   "metadata": {},
   "outputs": [],
   "source": [
    "dec1, ra1 = cube1_slice.world[:]\n",
    "dec2, ra2 = cube2_slice.world[:]\n",
    "dec1 = dec1[:,0]\n",
    "dec2 = dec2[:,0]\n",
    "\n",
    "\n",
    "lag1 = np.diff(dec1).round(decimals=7)\n",
    "lag2 = np.diff(dec2).round(decimals=7)\n",
    "print('lag:', np.intersect1d(lag1,lag2))\n",
    "\n",
    "sel_d1 = dec1[dec1 >= dec2[0]]\n",
    "sel_d2 = dec2[dec2 <= dec1[-1]]\n",
    "\n",
    "print(sel_d1,dec1[-1])\n",
    "print(sel_d2,dec2[0])\n",
    "print(sel_d1-sel_d2)\n",
    "print((sel_d1-sel_d2)/lag1[0])\n",
    "print(len(dec1)-(sel_d1-sel_d2)/lag1[0],len(dec1))\n",
    "\n",
    "ch_slice1 = cube1_slice.hdu.data\n",
    "ch_slice2 = cube2_slice.hdu.data\n",
    "print(ch_slice1.shape)\n",
    "print(ch_slice2.shape)\n",
    "ch_slice = np.append(ch_slice1[:-1],ch_slice2,axis=0)\n",
    "Hdec = np.append(dec1[:-1],dec2)\n",
    "Hra = ra1.copy()[0,:]\n",
    "print(Hra.shape)\n",
    "print(Hdec.shape)\n",
    "print(ch_slice.shape)\n",
    "plt.figure(figsize=(13,15))\n",
    "plt.imshow(ch_slice, origin='lower')\n",
    "plt.xticks(np.arange(len(Hra))[::5],Hra[::5].value,rotation=20)\n",
    "plt.yticks(np.arange(len(Hdec))[::5],Hdec[::5].value)\n",
    "plt.show()\n"
   ]
  },
  {
   "cell_type": "markdown",
   "metadata": {},
   "source": [
    "### Wider Window"
   ]
  },
  {
   "cell_type": "code",
   "execution_count": 1,
   "metadata": {},
   "outputs": [
    {
     "ename": "NameError",
     "evalue": "name 'vel' is not defined",
     "output_type": "error",
     "traceback": [
      "\u001b[0;31m---------------------------------------------------------------------------\u001b[0m",
      "\u001b[0;31mNameError\u001b[0m                                 Traceback (most recent call last)",
      "Cell \u001b[0;32mIn[1], line 1\u001b[0m\n\u001b[0;32m----> 1\u001b[0m vel_range \u001b[38;5;241m=\u001b[39m (\u001b[43mvel\u001b[49m[\u001b[38;5;241m0\u001b[39m]\u001b[38;5;241m*\u001b[39mu_vel, vel[\u001b[38;5;241m-\u001b[39m\u001b[38;5;241m1\u001b[39m]\u001b[38;5;241m*\u001b[39mu_vel)\n\u001b[1;32m      2\u001b[0m ra_range  \u001b[38;5;241m=\u001b[39m (\u001b[38;5;241m248\u001b[39m\u001b[38;5;241m*\u001b[39mu\u001b[38;5;241m.\u001b[39mdeg,\u001b[38;5;241m238\u001b[39m\u001b[38;5;241m*\u001b[39mu\u001b[38;5;241m.\u001b[39mdeg)\n\u001b[1;32m      3\u001b[0m dec_range \u001b[38;5;241m=\u001b[39m (\u001b[38;5;241m17\u001b[39m\u001b[38;5;241m*\u001b[39mu\u001b[38;5;241m.\u001b[39mdeg,\u001b[38;5;241m24\u001b[39m\u001b[38;5;241m*\u001b[39mu\u001b[38;5;241m.\u001b[39mdeg)\n",
      "\u001b[0;31mNameError\u001b[0m: name 'vel' is not defined"
     ]
    }
   ],
   "source": [
    "vel_range = (vel[0]*u_vel, vel[-1]*u_vel)\n",
    "ra_range  = (248*u.deg,238*u.deg)\n",
    "dec_range = (17*u.deg,24*u.deg)\n",
    "\n",
    "cube1 : SpectralCube = SpectralCube.read(hi_paths[0]).with_spectral_unit(u_vel).subcube(*ra_range,*dec_range,*vel_range)\n",
    "print(cube1)\n",
    "header = cube1.header\n",
    "\n",
    "hi_m01 = cube1.moment0()\n",
    "del cube1\n"
   ]
  },
  {
   "cell_type": "code",
   "execution_count": 20,
   "metadata": {},
   "outputs": [
    {
     "name": "stdout",
     "output_type": "stream",
     "text": [
      "SpectralCube with shape=(4, 264, 496) and unit=K:\n",
      " n_x:    496  type_x: RA        unit_x: deg    range:   239.741658 deg:  247.991675 deg\n",
      " n_y:    264  type_y: DEC       unit_y: deg    range:    22.608326 deg:   26.991668 deg\n",
      " n_s:      4  type_s: VOPT      unit_s: km / s  range:        1.840 km / s:       4.049 km / s\n",
      "SIMPLE  =                    T / Written by IDL:  Fri Aug 12 19:59:01 2016      \n",
      "BITPIX  =                  -32 / array data type                                \n",
      "NAXIS   =                    3                                                  \n",
      "NAXIS1  =                  496                                                  \n",
      "NAXIS2  =                  264                                                  \n",
      "NAXIS3  =                    4                                                  \n",
      "OBJECT  = 'GALFA-HI RA+DEC Tile 244.00+26.35' /  Object name                    \n",
      "BUNIT   = 'K       '           / Units of pixel data values                     \n",
      "OBSFREQ =        1.4204058E+09 /                                                \n",
      "TELESCOP= 'Arecibo 305m'                                                        \n",
      "INSTRUME= 'Arecibo L-Band Feed Array (ALFA)'                                    \n",
      "OBSERVER= 'Turn On Galfa Survey (TOGS)'                                         \n",
      "SLICE   = '[[(1026, 1030, None), (31, 295, None), (16, 616, None)]]'            \n",
      "WCSAXES =                    3 / Number of coordinate axes                      \n",
      "CRPIX1  =                240.5 / Pixel coordinate of reference point            \n",
      "CRPIX2  =                225.5 / Pixel coordinate of reference point            \n",
      "CRPIX3  =                 -1.5 / Pixel coordinate of reference point            \n",
      "CDELT1  =           -0.0166667 / [deg] Coordinate increment at reference point  \n",
      "CDELT2  =            0.0166667 / [deg] Coordinate increment at reference point  \n",
      "CDELT3  =         0.7361228396 / [m/s] Coordinate increment at reference point  \n",
      "CUNIT1  = 'deg'                / Units of coordinate increment and value        \n",
      "CUNIT2  = 'deg'                / Units of coordinate increment and value        \n",
      "CUNIT3  = 'km s-1  '           / Units of coordinate increment and value        \n",
      "CTYPE1  = 'RA'                 / Coordinate type codeundefined projection       \n",
      "CTYPE2  = 'DEC'                / Coordinate type codeundefined projection       \n",
      "CTYPE3  = 'VOPT'               / Optical velocity (linear)                      \n",
      "CRVAL1  =                244.0 / [deg] Coordinate value at reference point      \n",
      "CRVAL2  =                26.35 / [deg] Coordinate value at reference point      \n",
      "CRVAL3  =                  0.0 / [m/s] Coordinate value at reference point      \n",
      "LATPOLE =                 90.0 / [deg] Native latitude of celestial pole        \n",
      "MJDREF  =                  0.0 / [d] MJD of fiducial time                       \n",
      "RADESYS = 'FK5'                / Equatorial coordinate system                   \n",
      "EQUINOX =               2000.0 / [yr] Equinox of equatorial coordinates         \n",
      "SPECSYS = 'LSRK'               / Reference frame of spectral coordinates        \n",
      "HISTORY >                                                                       \n",
      "HISTORY *********************************************************************   \n",
      "HISTORY The data in this FITS file have been produced by the GALFA-HI           \n",
      "HISTORY consortium in concert with the TOGS subgroup. The GALFA Consortium      \n",
      "HISTORY was formed in 2003 to use the 7-element Arecibo L-band Feed Array       \n",
      "HISTORY (ALFA) instrument for surveys of the Galactic Interstellar Medium       \n",
      "HISTORY (ISM) with William E. Gordon Arecibo Observatory 305-meter telescope.   \n",
      "HISTORY The GALFA-HI/TOGS team has made reasonable efforts to produce accurate  \n",
      "HISTORY data, but no warranty is expressed or implied as to the suitability of  \n",
      "HISTORY the data for any particular purpose.                                    \n",
      "HISTORY Please read and cite \"The GALFA-HI Survey Data Release 2\"               \n",
      "HISTORY https://doi.org/10.3847/1538-4365/aa91d3 if you use this data.          \n",
      "HISTORY Wide data cubes are available at http://dx.doi.org/10.7910/DVN/X4PQ1Z   \n",
      "HISTORY Narrow data cubes are available at http://dx.doi.org/10.7910/DVN/MFM8C7 \n",
      "HISTORY Integrated HI maps are available at http://dx.doi.org/10.7910/DVN/T9CFT8\n",
      "HISTORY RHT data are available at http://dx.doi.org/10.7910/DVN/BEQ9ZZ          \n",
      "HISTORY The software is available at https://doi.org/10.5281/zenodo.1009153     \n",
      "HISTORY More software data are available at http://dx.doi.org/10.7910/DVN/RMOTC0\n",
      "HISTORY *********************************************************************   \n",
      "HISTORY >                                                                       \n",
      "COMMENT Original Unit=m / s                                                     \n",
      "COMMENT Original Type=VOPT                                                      \n",
      "END                                                                                                                                                                                                                                                                                                                                                                                                                                                                                                                                                                                                                                                                                                                                                                                                                                                                                                                                                                                                                                                                                                                                                                                                                                                                     \n"
     ]
    }
   ],
   "source": [
    "dec_range = (22.6*u.deg,27*u.deg)\n",
    "cube2 : SpectralCube = SpectralCube.read(hi_paths[1]).with_spectral_unit(u_vel).subcube(*ra_range,*dec_range,*vel_range)\n",
    "print(cube2)\n",
    "print(cube2.header.tostring(sep='\\n'))\n",
    "\n",
    "hi_m02 = cube2.moment0()\n",
    "\n",
    "\n",
    "del cube2\n"
   ]
  },
  {
   "cell_type": "code",
   "execution_count": null,
   "metadata": {},
   "outputs": [],
   "source": [
    "co_m0 = co_cube.moment0()\n",
    "fig = plt.figure(figsize=(13,7))\n",
    "ax = fig.add_subplot(111,projection=hi_m01.wcs)\n",
    "\n",
    "print(hi_m01.hdu.data.min(),hi_m01.hdu.data.max())\n",
    "img_hi = ax.imshow(hi_m01.hdu.data,cmap='viridis',origin='lower')\n",
    "cbar_hi = plt.colorbar(img_hi, fraction=0.046)\n",
    "cbar_hi.set_label('Intensity [K km/s]')\n",
    "co_transform = ax.get_transform(co_m0.wcs)\n",
    "xlim = ax.get_xlim()\n",
    "ylim = ax.get_ylim()\n",
    "levels = (2,3,4)\n",
    "img_co = ax.contour(co_m0.hdu.data,cmap='viridis',levels=levels,transform=co_transform)\n",
    "# cbar_hi = plt.colorbar(img_co, orientation='horizontal',  fraction=0.046, pad=0.07)\n",
    "# cbar_hi.set_label('Intensity [K km/s]')\n",
    "ax.set_xlim(xlim)\n",
    "ax.set_ylim(ylim)\n",
    "plt.show()"
   ]
  },
  {
   "cell_type": "code",
   "execution_count": null,
   "metadata": {},
   "outputs": [],
   "source": [
    "fig = plt.figure(figsize=(13,7))\n",
    "ax = fig.add_subplot(111,projection=hi_m01.wcs)\n",
    "\n",
    "print(hi_m01.hdu.data.min(),hi_m02.hdu.data.max())\n",
    "img_hi = ax.imshow(hi_m02.hdu.data,cmap='viridis',origin='lower',vmin=35,vmax=60)\n",
    "cbar_hi = plt.colorbar(img_hi, fraction=0.046)\n",
    "cbar_hi.set_label('Intensity [K km/s]')\n",
    "co_transform = ax.get_transform(co_m0.wcs)\n",
    "xlim = ax.get_xlim()\n",
    "ylim = ax.get_ylim()\n",
    "levels = (2,3,4)\n",
    "img_co = ax.contour(co_m0.hdu.data,cmap='viridis',levels=levels,transform=co_transform)\n",
    "# cbar_hi = plt.colorbar(img_co, orientation='horizontal',  fraction=0.046, pad=0.07)\n",
    "# cbar_hi.set_label('Intensity [K km/s]')\n",
    "ax.set_xlim(xlim)\n",
    "ax.set_ylim(ylim)\n",
    "plt.show()"
   ]
  },
  {
   "cell_type": "code",
   "execution_count": null,
   "metadata": {},
   "outputs": [],
   "source": [
    "hi_data1 = hi_m01.hdu.data\n",
    "hi_data2 = hi_m02.hdu.data\n",
    "data = np.append(hi_data1[:-1],hi_data2,axis=0)\n",
    "plt.figure(figsize=(17,10))\n",
    "plt.imshow(data,origin='lower')\n",
    "plt.show()"
   ]
  },
  {
   "cell_type": "markdown",
   "metadata": {},
   "source": [
    "## 60-100 micron\n",
    "\n",
    "Data files:\n",
    "\n",
    " - 0 : `IRAS-60_RA+DEC_242.64+21.822.fits`\n",
    " - 1 : `IRAS-100_RA+DEC_242.64+21.822.fits`"
   ]
  },
  {
   "cell_type": "code",
   "execution_count": 1,
   "metadata": {},
   "outputs": [
    {
     "ename": "NameError",
     "evalue": "name 'get_data_fit' is not defined",
     "output_type": "error",
     "traceback": [
      "\u001b[0;31m---------------------------------------------------------------------------\u001b[0m",
      "\u001b[0;31mNameError\u001b[0m                                 Traceback (most recent call last)",
      "Cell \u001b[0;32mIn[1], line 1\u001b[0m\n\u001b[0;32m----> 1\u001b[0m ir60_hdul, ir60_data   \u001b[38;5;241m=\u001b[39m \u001b[43mget_data_fit\u001b[49m(ir_paths[\u001b[38;5;241m10\u001b[39m],display_plots\u001b[38;5;241m=\u001b[39m\u001b[38;5;28;01mFalse\u001b[39;00m) \n\u001b[1;32m      2\u001b[0m ir100_hdul, ir100_data \u001b[38;5;241m=\u001b[39m get_data_fit(ir_paths[\u001b[38;5;241m11\u001b[39m],display_plots\u001b[38;5;241m=\u001b[39m\u001b[38;5;28;01mFalse\u001b[39;00m) \n\u001b[1;32m      4\u001b[0m ir100_wcs \u001b[38;5;241m=\u001b[39m WCS(ir100_hdul[\u001b[38;5;241m0\u001b[39m]\u001b[38;5;241m.\u001b[39mheader)\n",
      "\u001b[0;31mNameError\u001b[0m: name 'get_data_fit' is not defined"
     ]
    }
   ],
   "source": [
    "ir60_hdul, ir60_data   = get_data_fit(ir_paths[0],display_plots=False) \n",
    "ir100_hdul, ir100_data = get_data_fit(ir_paths[1],display_plots=False) \n",
    "\n",
    "ir100_wcs = WCS(ir100_hdul[0].header)\n",
    "\n",
    "fig = plt.figure(figsize=(13,7))\n",
    "ax = fig.add_subplot(111,projection=ir100_wcs)\n",
    "ir_img = ax.imshow(ir100_data)\n",
    "plt.colorbar(ir_img)\n",
    "plt.show()"
   ]
  },
  {
   "cell_type": "code",
   "execution_count": null,
   "metadata": {},
   "outputs": [],
   "source": [
    "fig = plt.figure(figsize=(13,7))\n",
    "ax = fig.add_subplot(111,projection=hi_m01.wcs)\n",
    "\n",
    "img_hi = ax.imshow(hi_m01.hdu.data,cmap='viridis',origin='lower')\n",
    "cbar_hi = plt.colorbar(img_hi, fraction=0.046)\n",
    "cbar_hi.set_label('Intensity [K km/s]')\n",
    "ir_transform = ax.get_transform(ir100_wcs)\n",
    "xlim = ax.get_xlim()\n",
    "ylim = ax.get_ylim()\n",
    "levels = (5,6,7,8,9,10,11,12)\n",
    "img_ir = ax.contour(ir100_data,cmap='gray',levels=levels,transform=ir_transform)\n",
    "# cbar_hi = plt.colorbar(img_co, orientation='horizontal',  fraction=0.046, pad=0.07)\n",
    "# cbar_hi.set_label('Intensity [K km/s]')\n",
    "ax.set_xlim(xlim)\n",
    "ax.set_ylim(ylim)\n",
    "plt.show()"
   ]
  }
 ],
 "metadata": {
  "kernelspec": {
   "display_name": "Python 3",
   "language": "python",
   "name": "python3"
  },
  "language_info": {
   "codemirror_mode": {
    "name": "ipython",
    "version": 3
   },
   "file_extension": ".py",
   "mimetype": "text/x-python",
   "name": "python",
   "nbconvert_exporter": "python",
   "pygments_lexer": "ipython3",
   "version": "3.10.12"
  }
 },
 "nbformat": 4,
 "nbformat_minor": 2
}
